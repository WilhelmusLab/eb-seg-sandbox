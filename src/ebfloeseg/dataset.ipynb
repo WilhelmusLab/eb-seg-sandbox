{
 "cells": [
  {
   "cell_type": "code",
   "execution_count": 38,
   "metadata": {},
   "outputs": [],
   "source": [
    "import numpy as np\n",
    "import rasterio\n",
    "import rasterio.plot\n",
    "import tempfile\n",
    "import pathlib\n",
    "import io\n",
    "from rasterio.enums import ColorInterp"
   ]
  },
  {
   "cell_type": "code",
   "execution_count": 13,
   "metadata": {},
   "outputs": [
    {
     "data": {
      "text/plain": [
       "<open DatasetReader name='/tmp/tmp0dw2x5ai/img.tiff' mode='r'>"
      ]
     },
     "execution_count": 13,
     "metadata": {},
     "output_type": "execute_result"
    }
   ],
   "source": [
    "def _make_dataset_from_array(arr):\n",
    "    transform = rasterio.transform.from_origin(472137, 5015782, 0.5, 0.5)\n",
    "    with tempfile.TemporaryDirectory() as tmp:\n",
    "        dataset_writer = rasterio.open(\n",
    "            pathlib.Path(tmp) / \"img.tiff\",\n",
    "            \"w\",\n",
    "            driver=\"GTiff\",\n",
    "            height=arr.shape[0],\n",
    "            width=arr.shape[1],\n",
    "            count=1,\n",
    "            dtype=str(arr.dtype),\n",
    "            crs=\"+proj=utm +zone=10 +ellps=GRS80 +datum=NAD83 +units=m +no_defs\",\n",
    "            transform=transform,\n",
    "        )\n",
    "        dataset_writer.close()\n",
    "        dataset = rasterio.open(pathlib.Path(tmp) / \"img.tiff\")\n",
    "\n",
    "        return dataset\n",
    "\n",
    "\n",
    "_make_dataset_from_array(np.ones((3, 3)))"
   ]
  },
  {
   "cell_type": "code",
   "execution_count": 17,
   "metadata": {},
   "outputs": [
    {
     "name": "stderr",
     "output_type": "stream",
     "text": [
      "/workspaces/ebseg/.venv/lib/python3.11/site-packages/rasterio/__init__.py:314: NotGeoreferencedWarning: Dataset has no geotransform, gcps, or rpcs. The identity matrix will be returned.\n",
      "  dataset = writer(\n",
      "/workspaces/ebseg/.venv/lib/python3.11/site-packages/rasterio/__init__.py:304: NotGeoreferencedWarning: Dataset has no geotransform, gcps, or rpcs. The identity matrix will be returned.\n",
      "  dataset = DatasetReader(path, driver=driver, sharing=sharing, **kwargs)\n"
     ]
    },
    {
     "data": {
      "text/plain": [
       "<open DatasetReader name='/tmp/tmpxbbtasxm/img.tiff' mode='r'>"
      ]
     },
     "execution_count": 17,
     "metadata": {},
     "output_type": "execute_result"
    }
   ],
   "source": [
    "def _make_dataset_from_array(arr):\n",
    "    transform = rasterio.transform.from_origin(472137, 5015782, 0.5, 0.5)\n",
    "    with tempfile.TemporaryDirectory() as tmp:\n",
    "        dataset_writer = rasterio.open(\n",
    "            pathlib.Path(tmp) / \"img.tiff\",\n",
    "            \"w\",\n",
    "            driver=\"GTiff\",\n",
    "            height=arr.shape[0],\n",
    "            width=arr.shape[1],\n",
    "            count=1,\n",
    "            dtype=str(arr.dtype),\n",
    "            crs=\"+proj=utm +zone=10 +ellps=GRS80 +datum=NAD83 +units=m +no_defs\",\n",
    "        )\n",
    "        dataset_writer.close()\n",
    "        dataset = rasterio.open(pathlib.Path(tmp) / \"img.tiff\")\n",
    "\n",
    "        return dataset\n",
    "\n",
    "\n",
    "_make_dataset_from_array(np.ones((3, 3)))"
   ]
  },
  {
   "cell_type": "code",
   "execution_count": 75,
   "metadata": {},
   "outputs": [
    {
     "data": {
      "image/png": "[encoded data removed]",
      "text/plain": [
       "<Figure size 640x480 with 1 Axes>"
      ]
     },
     "metadata": {},
     "output_type": "display_data"
    },
    {
     "data": {
      "text/plain": [
       "<Axes: >"
      ]
     },
     "execution_count": 75,
     "metadata": {},
     "output_type": "execute_result"
    }
   ],
   "source": [
    "def _make_dataset_from_array(arr, channels=\"RGB\"):\n",
    "    match channels:\n",
    "        case \"RGB\":\n",
    "            count = 3\n",
    "            colorinterp = ColorInterp.red, ColorInterp.green, ColorInterp.blue\n",
    "        case \"RGBA\":\n",
    "            count = 4\n",
    "            colorinterp = (\n",
    "                ColorInterp.red,\n",
    "                ColorInterp.green,\n",
    "                ColorInterp.blue,\n",
    "                ColorInterp.alpha,\n",
    "            )\n",
    "        case \"undefined\":\n",
    "            count = 1\n",
    "            colorinterp = ColorInterp.undefined\n",
    "\n",
    "    file = io.BytesIO()\n",
    "    dataset_writer = rasterio.open(\n",
    "        file,\n",
    "        \"w\",\n",
    "        driver=\"GTiff\",\n",
    "        count=arr.shape[0],\n",
    "        height=arr.shape[1],\n",
    "        width=arr.shape[2],\n",
    "        dtype=str(arr.dtype),\n",
    "        crs=\"+proj=longlat +datum=WGS84 +no_defs\",\n",
    "        transform=rasterio.transform.Affine.identity(),\n",
    "    )\n",
    "\n",
    "    dataset_writer.write(arr)\n",
    "    dataset_writer.colorinterp = colorinterp\n",
    "    dataset_writer.close()\n",
    "    dataset = rasterio.open(file)\n",
    "    return dataset\n",
    "\n",
    "\n",
    "array = np.random.random((4, 8, 8))\n",
    "array[3, :, :] = 1\n",
    "dataset = _make_dataset_from_array(array, channels=\"RGBA\")\n",
    "rasterio.plot.show(dataset)"
   ]
  },
  {
   "cell_type": "code",
   "execution_count": 47,
   "metadata": {},
   "outputs": [
    {
     "data": {
      "text/plain": [
       "array([[[ 66, 164,  99],\n",
       "        [151,  57, 163],\n",
       "        [ 67, 108,  43]],\n",
       "\n",
       "       [[ 28,  55,  65],\n",
       "        [103, 118,  81],\n",
       "        [214, 228, 252]],\n",
       "\n",
       "       [[ 16, 102, 122],\n",
       "        [ 48, 103, 184],\n",
       "        [ 51, 197,  90]]])"
      ]
     },
     "execution_count": 47,
     "metadata": {},
     "output_type": "execute_result"
    }
   ],
   "source": [
    "\n",
    "def _make_dataset_from_channels(channel_data*):\n",
    "    match channels:\n",
    "        case \"RGB\":\n",
    "            count = 3\n",
    "            colorinterp = ColorInterp.red, ColorInterp.green, ColorInterp.blue\n",
    "        case \"RGBA\":\n",
    "            count = 4\n",
    "            colorinterp = ColorInterp.red, ColorInterp.green, ColorInterp.blue, ColorInterp.alpha\n",
    "        case \"undefined\":\n",
    "            count = 1\n",
    "            colorinterp = ColorInterp.undefined\n",
    "        \n",
    "    \n",
    "    file = io.BytesIO()\n",
    "    dataset_writer = rasterio.open(\n",
    "        file, 'w', driver='GTiff',\n",
    "        count=arr.shape[0],\n",
    "        height = arr.shape[1], \n",
    "        width = arr.shape[2],\n",
    "        dtype=str(arr.dtype),\n",
    "        crs='+proj=longlat +datum=WGS84 +no_defs',\n",
    "        transform=rasterio.transform.Affine.identity()\n",
    "        )\n",
    "    \n",
    "    dataset_writer.write(arr)\n",
    "    dataset_writer.colorinterp = colorinterp\n",
    "    dataset_writer.close()\n",
    "    dataset = rasterio.open(file)\n",
    "    return dataset\n",
    "\n",
    "array = np.random.random((4, 8, 8))\n",
    "array[3, :, :] = 1\n",
    "dataset = _make_dataset_from_array(\n",
    "    array, \n",
    "    channels=\"RGBA\")\n",
    "rasterio.plot.show(dataset)"
   ]
  },
  {
   "cell_type": "code",
   "execution_count": null,
   "metadata": {},
   "outputs": [],
   "source": []
  },
  {
   "cell_type": "code",
   "execution_count": null,
   "metadata": {},
   "outputs": [],
   "source": []
  }
 ],
 "metadata": {
  "kernelspec": {
   "display_name": ".venv",
   "language": "python",
   "name": "python3"
  },
  "language_info": {
   "codemirror_mode": {
    "name": "ipython",
    "version": 3
   },
   "file_extension": ".py",
   "mimetype": "text/x-python",
   "name": "python",
   "nbconvert_exporter": "python",
   "pygments_lexer": "ipython3",
   "version": "3.11.9"
  }
 },
 "nbformat": 4,
 "nbformat_minor": 2
}
