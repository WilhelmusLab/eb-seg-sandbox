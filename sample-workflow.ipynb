{
 "cells": [
  {
   "cell_type": "code",
   "execution_count": null,
   "id": "70fe1189",
   "metadata": {},
   "outputs": [],
   "source": [
    "# Sample config file\n",
    "SAMPLE_CONFIG = \"\"\"\n",
    "data_direc = \"tests/input\"\n",
    "save_figs = true\n",
    "save_direc = \"temp\"\n",
    "land = \"tests/input/reproj_land.tiff\"\n",
    "\n",
    "[erosion]\n",
    "erode_itmax = 8 # maximum number of iterations for erosion\n",
    "erode_itmin = 3 # (inclusive) minimum number of iterations for erosion\n",
    "step = -1\n",
    "erosion_kernel_type = \"diamond\"\n",
    "erosion_kernel_size = 1\n",
    "\"\"\""
   ]
  },
  {
   "cell_type": "code",
   "execution_count": null,
   "id": "a6f0ffe1",
   "metadata": {},
   "outputs": [],
   "source": [
    "from pathlib import Path\n",
    "from ebfloeseg.app import parse_config_file\n",
    "from pprint import pp\n",
    "\n",
    "with open(\"myconfig.toml\", \"w\") as f:\n",
    "    f.write(SAMPLE_CONFIG)\n",
    "\n",
    "config_file = Path(\"myconfig.toml\")\n",
    "config = parse_config_file(config_file)\n",
    "pp(config)"
   ]
  },
  {
   "cell_type": "code",
   "execution_count": null,
   "id": "6d6a6358",
   "metadata": {},
   "outputs": [],
   "source": [
    "from ebfloeseg.app import process_images\n",
    "process_images(config_file)"
   ]
  },
  {
   "cell_type": "code",
   "execution_count": null,
   "id": "e89f31ee",
   "metadata": {},
   "outputs": [],
   "source": [
    "from ebfloeseg.utils import imshow, imopen\n",
    "\n",
    "[imshow(imopen(f\"temp/{i}/ice_mask_hist.png\")) for i in range(214, 215+1)];"
   ]
  }
 ],
 "metadata": {
  "kernelspec": {
   "display_name": "Python 3 (ipykernel)",
   "language": "python",
   "name": "python3"
  },
  "language_info": {
   "codemirror_mode": {
    "name": "ipython",
    "version": 3
   },
   "file_extension": ".py",
   "mimetype": "text/x-python",
   "name": "python",
   "nbconvert_exporter": "python",
   "pygments_lexer": "ipython3"
  }
 },
 "nbformat": 4,
 "nbformat_minor": 5
}
